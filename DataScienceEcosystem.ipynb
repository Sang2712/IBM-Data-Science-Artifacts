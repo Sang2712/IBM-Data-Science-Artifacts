{
 "cells": [
  {
   "cell_type": "markdown",
   "id": "50b9055c",
   "metadata": {},
   "source": [
    "## Data Science Tools and Ecosystem"
   ]
  },
  {
   "cell_type": "markdown",
   "id": "b54c0159",
   "metadata": {},
   "source": [
    "In this notebook, Data Science Tools and Ecosystem are summarized."
   ]
  },
  {
   "cell_type": "markdown",
   "id": "a29c0b08",
   "metadata": {},
   "source": [
    "**Objectives:**\n",
    "* To understand the different languages used in data science\n",
    "* To know about some of the popularly used tools used in processing data\n",
    "* To understand the 5 Vs of data science (Volume, Velocity, Variety, Veracity and Value) and how it impacts the end goal of data analytics"
   ]
  },
  {
   "cell_type": "markdown",
   "id": "5f9a659b",
   "metadata": {},
   "source": [
    "Some of the popular languages that Data Scientists use are:\n",
    "\n",
    "    1. R\n",
    "    2. Python\n",
    "    3. SQL\n",
    "    4. Julia\n",
    "    5. Scala"
   ]
  },
  {
   "cell_type": "markdown",
   "id": "ae55fb67",
   "metadata": {},
   "source": [
    "Some of the commonly used libraries used by Data Scientists include:\n",
    "    \n",
    "    1. MatplotLib\n",
    "    2. NumPy\n",
    "    3. Scikit-learn\n",
    "    4. Plotly\n",
    "    5. Pandas"
   ]
  },
  {
   "cell_type": "markdown",
   "id": "31a882b1",
   "metadata": {},
   "source": [
    "| Data Science Tools |\n",
    "|:------------------ |\n",
    "|    Scikit-learn    |\n",
    "|    Apache Spark    |\n",
    "|    TensorFlow      |"
   ]
  },
  {
   "cell_type": "markdown",
   "id": "bdb537f5",
   "metadata": {},
   "source": [
    "### Below are a few examples of evaluating arithmetic expressions in Python"
   ]
  },
  {
   "cell_type": "code",
   "execution_count": 3,
   "id": "0e965a84",
   "metadata": {},
   "outputs": [
    {
     "data": {
      "text/plain": [
       "17"
      ]
     },
     "execution_count": 3,
     "metadata": {},
     "output_type": "execute_result"
    }
   ],
   "source": [
    "# This a simple arithmetic expression to mutiply then add integers\n",
    "(3*4)+5"
   ]
  },
  {
   "cell_type": "code",
   "execution_count": 10,
   "id": "b245caa0",
   "metadata": {},
   "outputs": [
    {
     "data": {
      "text/plain": [
       "'3.33 Hrs'"
      ]
     },
     "execution_count": 10,
     "metadata": {},
     "output_type": "execute_result"
    }
   ],
   "source": [
    "# This will convert 200 minutes to hours by diving by 60\n",
    "f\"{200/60:.2f} Hrs\""
   ]
  },
  {
   "cell_type": "markdown",
   "id": "a84250cb",
   "metadata": {},
   "source": [
    "## Author"
   ]
  },
  {
   "cell_type": "markdown",
   "id": "c2eef4ca",
   "metadata": {},
   "source": [
    "Sangeeth Kunnath"
   ]
  },
  {
   "cell_type": "code",
   "execution_count": null,
   "id": "9df3a93f",
   "metadata": {},
   "outputs": [],
   "source": []
  }
 ],
 "metadata": {
  "kernelspec": {
   "display_name": "Python 3 (ipykernel)",
   "language": "python",
   "name": "python3"
  },
  "language_info": {
   "codemirror_mode": {
    "name": "ipython",
    "version": 3
   },
   "file_extension": ".py",
   "mimetype": "text/x-python",
   "name": "python",
   "nbconvert_exporter": "python",
   "pygments_lexer": "ipython3",
   "version": "3.11.7"
  }
 },
 "nbformat": 4,
 "nbformat_minor": 5
}
